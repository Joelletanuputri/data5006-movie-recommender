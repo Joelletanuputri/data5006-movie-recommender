{
 "cells": [
  {
   "cell_type": "code",
   "execution_count": null,
   "id": "53b052ef",
   "metadata": {},
   "outputs": [],
   "source": [
    "import os\n",
    "\n",
    "import pandas as pd\n",
    "import streamlit as st\n",
    "\n",
    "from utils import calculate_movie_rating_similarity, get_utility_matrix"
   ]
  },
  {
   "cell_type": "code",
   "execution_count": null,
   "id": "dc01f169",
   "metadata": {},
   "outputs": [],
   "source": [
    "def main():\n",
    "    data_dir = os.path.join(\".\", \"data\", \"ml-latest-small\")\n",
    "\n",
    "    # load the data\n",
    "    ratings_df = pd.read_csv(os.path.join(data_dir, \"ratings.csv\"))\n",
    "    movies_df = pd.read_csv(os.path.join(data_dir, \"movies.csv\"))\n",
    "    tags_df = pd.read_csv(os.path.join(data_dir, \"tags.csv\"))\n",
    "\n",
    "    # convert unix timestamps to datetime\n",
    "    ratings_df[\"timestamp\"] = pd.to_datetime(ratings_df[\"timestamp\"], unit=\"s\")\n",
    "    tags_df[\"timestamp\"] = pd.to_datetime(tags_df[\"timestamp\"], unit=\"s\")\n",
    "\n",
    "    raw_df = pd.merge(ratings_df, movies_df, on=\"movieId\")\n",
    "    utility_matrix = get_utility_matrix(raw_df)\n",
    "\n",
    "    # create website layout\n",
    "    header = st.container()\n",
    "    dataset = st.container()\n",
    "\n",
    "    with header:\n",
    "        st.title(\"Premiere Movie Cater Just for You\")\n",
    "\n",
    "    with dataset:\n",
    "        movie = st.selectbox(\n",
    "            label=\"Select a Movie\",\n",
    "            options=movies_df[\"title\"],\n",
    "        )\n",
    "        movie_id = movies_df.loc[movies_df[\"title\"] == movie, \"movieId\"].iloc[0]\n",
    "\n",
    "    corr_df = calculate_movie_rating_similarity(utility_matrix)\n",
    "    top20 = corr_df[movie_id].sort_values(ascending=False).iloc[1:21]\n",
    "    movies_df.set_index(\"movieId\").loc[top20.index, \"title\"].reset_index(drop=True)"
   ]
  },
  {
   "cell_type": "code",
   "execution_count": null,
   "id": "2a7f3c8b",
   "metadata": {},
   "outputs": [],
   "source": [
    "if __name__ == \"__main__\":\n",
    "    main()"
   ]
  }
 ],
 "metadata": {
  "jupytext": {
   "cell_metadata_filter": "-all",
   "formats": "ipynb,py:percent",
   "main_language": "python",
   "notebook_metadata_filter": "-kernelspec"
  },
  "language_info": {
   "name": "python"
  }
 },
 "nbformat": 4,
 "nbformat_minor": 5
}
