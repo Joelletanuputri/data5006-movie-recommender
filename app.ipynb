{
 "cells": [
  {
   "cell_type": "code",
   "execution_count": null,
   "id": "da59d60b-e8aa-4348-b6b2-e5e8d64dfda8",
   "metadata": {
    "lines_to_next_cell": 2
   },
   "outputs": [],
   "source": [
    "import os\n",
    "\n",
    "import pandas as pd\n",
    "import streamlit as st"
   ]
  },
  {
   "cell_type": "code",
   "execution_count": null,
   "id": "eb2199e4-2ef7-41da-8c0d-06fa4f55d030",
   "metadata": {},
   "outputs": [],
   "source": [
    "header = st.container()\n",
    "dataset = st.container()"
   ]
  },
  {
   "cell_type": "code",
   "execution_count": null,
   "id": "fdcfe614-275c-442f-8b44-5e965ca0f980",
   "metadata": {},
   "outputs": [],
   "source": [
    "with header:\n",
    "    st.title(\"Premiere Movie Cater Just for You\")"
   ]
  },
  {
   "cell_type": "code",
   "execution_count": null,
   "id": "0cdcfe07-51a7-4056-ac96-36ca81fd30f3",
   "metadata": {},
   "outputs": [],
   "source": [
    "with dataset:\n",
    "    df = pd.read_csv(os.path.join(os.curdir, \"data\", \"ml-latest-small\", \"movies.csv\"))\n",
    "    movie = st.selectbox(\n",
    "        label=\"Select a Movie\",\n",
    "        options=df[\"title\"],\n",
    "    )\n",
    "    df.query(\"title == @movie\")[\"movieId\"].iloc[0]"
   ]
  },
  {
   "cell_type": "code",
   "execution_count": null,
   "id": "93348cd9-21d4-41e8-b472-f31158515f44",
   "metadata": {},
   "outputs": [],
   "source": []
  }
 ],
 "metadata": {
  "jupytext": {
   "cell_metadata_filter": "-all",
   "formats": "ipynb,py:percent",
   "main_language": "python",
   "notebook_metadata_filter": "-kernelspec"
  },
  "kernelspec": {
   "display_name": "Python 3.10.8 ('2022f_data5006_movie_recommender')",
   "language": "python",
   "name": "python3"
  },
  "language_info": {
   "codemirror_mode": {
    "name": "ipython",
    "version": 3
   },
   "file_extension": ".py",
   "mimetype": "text/x-python",
   "name": "python",
   "nbconvert_exporter": "python",
   "pygments_lexer": "ipython3"
  },
  "vscode": {
   "interpreter": {
    "hash": "b973323e0a4211eeaeab38acd540646dcb7aff6b80290a0799cc98102675c628"
   }
  }
 },
 "nbformat": 4,
 "nbformat_minor": 5
}
