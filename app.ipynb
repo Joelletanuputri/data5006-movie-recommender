{
 "cells": [
  {
   "cell_type": "code",
   "execution_count": null,
   "id": "dcc10a45",
   "metadata": {
    "lines_to_next_cell": 2
   },
   "outputs": [],
   "source": [
    "import os\n",
    "\n",
    "import pandas as pd\n",
    "import streamlit as st"
   ]
  },
  {
   "cell_type": "code",
   "execution_count": null,
   "id": "9b67a119",
   "metadata": {},
   "outputs": [],
   "source": [
    "header = st.container()\n",
    "dataset = st.container()"
   ]
  },
  {
   "cell_type": "code",
   "execution_count": null,
   "id": "c7dcec50",
   "metadata": {},
   "outputs": [],
   "source": [
    "with header:\n",
    "    st.title(\"Premiere Movie Cater Just for You\")"
   ]
  },
  {
   "cell_type": "code",
   "execution_count": null,
   "id": "4c316410",
   "metadata": {},
   "outputs": [],
   "source": [
    "with dataset:\n",
    "    df = pd.read_csv(os.path.join(os.curdir, \"data\", \"ml-latest-small\", \"movies.csv\"))\n",
    "    movie = st.selectbox(\n",
    "        label=\"Select a Movie\",\n",
    "        options=df[\"title\"],\n",
    "    )\n",
    "    df.query(\"title == @movie\")[\"movieId\"].iloc[0]"
   ]
  }
 ],
 "metadata": {
  "jupytext": {
   "cell_metadata_filter": "-all",
   "formats": "ipynb,py:percent",
   "main_language": "python",
   "notebook_metadata_filter": "-kernelspec"
  }
 },
 "nbformat": 4,
 "nbformat_minor": 5
}
