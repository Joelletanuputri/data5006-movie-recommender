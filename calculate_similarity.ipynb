{
 "cells": [
  {
   "cell_type": "code",
   "execution_count": null,
   "id": "913ded95",
   "metadata": {
    "lines_to_next_cell": 2
   },
   "outputs": [],
   "source": [
    "import os\n",
    "\n",
    "import pandas as pd"
   ]
  },
  {
   "cell_type": "code",
   "execution_count": null,
   "id": "0e9d4dce",
   "metadata": {},
   "outputs": [],
   "source": [
    "data_dir = os.path.join(\".\", \"data\", \"ml-latest-small\")\n",
    "df1 = pd.read_csv(os.path.join(data_dir, \"ratings.csv\"))\n",
    "df2 = pd.read_csv(os.path.join(data_dir, \"movies.csv\"))\n",
    "data = df1.merge(df2, on=\"movieId\")"
   ]
  },
  {
   "cell_type": "code",
   "execution_count": null,
   "id": "f356fc4b",
   "metadata": {},
   "outputs": [],
   "source": [
    "data"
   ]
  },
  {
   "cell_type": "code",
   "execution_count": null,
   "id": "db860402",
   "metadata": {},
   "outputs": [],
   "source": [
    "data_table = pd.pivot_table(data, values=\"rating\", columns=\"title\", index=\"userId\")\n",
    "data_table.tail()"
   ]
  },
  {
   "cell_type": "code",
   "execution_count": null,
   "id": "ea20f855",
   "metadata": {},
   "outputs": [],
   "source": [
    "print(\n",
    "    \"here are a list of 20 movies to recommend to a user who has liked '101 Dalmatians (1996)'\"\n",
    ")\n",
    "table_corr = pd.DataFrame(\n",
    "    data_table.corr()[\"101 Dalmatians (1996)\"].sort_values(ascending=False).iloc[:20]\n",
    ")\n",
    "table_corr"
   ]
  }
 ],
 "metadata": {
  "jupytext": {
   "formats": "ipynb,py:percent",
   "main_language": "python",
   "notebook_metadata_filter": "-kernelspec"
  },
  "kernelspec": {
   "display_name": "2022F DATA5006 Computer Programming in Python",
   "language": "python",
   "name": "2022f_data5006"
  },
  "language_info": {
   "name": "python"
  },
  "vscode": {
   "interpreter": {
    "hash": "b973323e0a4211eeaeab38acd540646dcb7aff6b80290a0799cc98102675c628"
   }
  }
 },
 "nbformat": 4,
 "nbformat_minor": 5
}
