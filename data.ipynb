{
 "cells": [
  {
   "cell_type": "code",
   "execution_count": null,
   "metadata": {},
   "outputs": [],
   "source": [
    "from urllib.request import urlretrieve\n",
    "import zipfile\n",
    "import os\n",
    "path = \"data\"\n",
    "isExist = os.path.exists(path)\n",
    "if not isExist:\n",
    "   os.makedirs(path)\n",
    "urlretrieve(\"https://files.grouplens.org/datasets/movielens/ml-latest-small.zip\", \"ml-latest-small.zip\")\n",
    "zip_ref = zipfile.ZipFile('ml-latest-small.zip', \"r\")\n",
    "zip_ref.extractall(\"data\")\n",
    "os.remove('ml-latest-small.zip')"
   ]
  },
  {
   "cell_type": "code",
   "execution_count": null,
   "metadata": {},
   "outputs": [],
   "source": [
    "import pandas as pd \n",
    "movies = pd.read_csv(r\"movies = pd.read_csv(r\"/workspaces/data5006-movie-recommender/ml-latest-small/movies.csv\")\n",
    "movies\")\n",
    "movies "
   ]
  },
  {
   "cell_type": "code",
   "execution_count": null,
   "metadata": {},
   "outputs": [],
   "source": [
    "tags = pd.read_csv(r\"/workspaces/data5006-movie-recommender/ml-latest-small/tags.csv\")\n",
    "tags"
   ]
  },
  {
   "cell_type": "code",
   "execution_count": null,
   "metadata": {},
   "outputs": [],
   "source": [
    "ratings = pd.read_csv(r\"/workspaces/data5006-movie-recommender/ml-latest-small/ratings.csv\")\n",
    "ratings"
   ]
  },
  {
   "cell_type": "code",
   "execution_count": null,
   "metadata": {},
   "outputs": [],
   "source": [
    "links = pd.read_csv(r\"/workspaces/data5006-movie-recommender/ml-latest-small/links.csv\")\n",
    "links"
   ]
  }
 ],
 "metadata": {
  "language_info": {
   "name": "python"
  },
  "orig_nbformat": 4
 },
 "nbformat": 4,
 "nbformat_minor": 2
}
