{
 "cells": [
  {
   "cell_type": "code",
   "execution_count": null,
   "id": "7663b1a1",
   "metadata": {},
   "outputs": [],
   "source": [
    "import os\n",
    "import zipfile\n",
    "from urllib.request import urlretrieve"
   ]
  },
  {
   "cell_type": "code",
   "execution_count": null,
   "id": "16c0c457",
   "metadata": {},
   "outputs": [],
   "source": [
    "def download_and_extract(src_url: str, data_dir: str) -> None:\n",
    "    # setup data folder\n",
    "    download_dir = os.path.join(data_dir, \"download\")\n",
    "\n",
    "    if not os.path.isdir(download_dir):\n",
    "        os.makedirs(download_dir)\n",
    "\n",
    "    # download the dataset\n",
    "    zip_path = os.path.join(download_dir, src_url[src_url.rfind(\"/\") + 1 :])\n",
    "    urlretrieve(src_url, zip_path)\n",
    "\n",
    "    # extract the dataset\n",
    "    with zipfile.ZipFile(zip_path, \"r\") as f:\n",
    "        f.extractall(data_dir)"
   ]
  },
  {
   "cell_type": "code",
   "execution_count": null,
   "id": "a3a781e9",
   "metadata": {},
   "outputs": [],
   "source": [
    "if __name__ == \"__main__\":\n",
    "    src_url = \"https://files.grouplens.org/datasets/movielens/ml-latest-small.zip\"\n",
    "    data_dir = os.path.join(os.curdir, \"data\")\n",
    "    download_and_extract(src_url, data_dir)"
   ]
  }
 ],
 "metadata": {
  "jupytext": {
   "cell_metadata_filter": "-all",
   "formats": "ipynb,py:percent",
   "main_language": "python",
   "notebook_metadata_filter": "-kernelspec"
  },
  "kernelspec": {
   "display_name": "2022F DATA5006 Movie Recommender",
   "language": "python",
   "name": "data5006_recommender"
  },
  "language_info": {
   "name": "python"
  }
 },
 "nbformat": 4,
 "nbformat_minor": 5
}
