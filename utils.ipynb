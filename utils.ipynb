{
 "cells": [
  {
   "cell_type": "code",
   "execution_count": null,
   "id": "483aa84f",
   "metadata": {},
   "outputs": [],
   "source": [
    "import pandas as pd\n",
    "import streamlit as st"
   ]
  },
  {
   "cell_type": "code",
   "execution_count": null,
   "id": "20a9bf2e",
   "metadata": {},
   "outputs": [],
   "source": [
    "@st.cache(ttl=86400)\n",
    "def get_utility_matrix(df: pd.DataFrame) -> pd.DataFrame:\n",
    "    new_df = (\n",
    "        df.groupby(\"movieId\")\n",
    "        .agg(\n",
    "            **{\n",
    "                \"num_ratings\": pd.NamedAgg(column=\"rating\", aggfunc=len),\n",
    "                \"mean_rating\": pd.NamedAgg(column=\"rating\", aggfunc=pd.DataFrame.mean),\n",
    "            }\n",
    "        )\n",
    "        .assign(\n",
    "            mod_mean_rating=lambda x: x[\"num_ratings\"]\n",
    "            * x[\"mean_rating\"]\n",
    "            / (x[\"num_ratings\"] + 4)\n",
    "        )\n",
    "    )\n",
    "    return (\n",
    "        df.join(new_df, on=\"movieId\")\n",
    "        .assign(mean_centered_rating=lambda x: x[\"rating\"] - x[\"mean_rating\"])\n",
    "        .pivot(index=\"userId\", columns=\"movieId\", values=\"mean_centered_rating\")\n",
    "        .fillna(0)\n",
    "    )"
   ]
  },
  {
   "cell_type": "code",
   "execution_count": null,
   "id": "aad8e6a1",
   "metadata": {},
   "outputs": [],
   "source": [
    "@st.cache(ttl=86400)\n",
    "def calculate_movie_rating_similarity(df: pd.DataFrame) -> pd.DataFrame:\n",
    "    return df.corr()"
   ]
  }
 ],
 "metadata": {
  "jupytext": {
   "cell_metadata_filter": "-all",
   "formats": "ipynb,py:percent",
   "main_language": "python",
   "notebook_metadata_filter": "-kernelspec"
  },
  "kernelspec": {
   "display_name": "Python 3.10.8 ('2022f_data5006_movie_recommender')",
   "language": "python",
   "name": "python3"
  },
  "language_info": {
   "name": "python"
  },
  "vscode": {
   "interpreter": {
    "hash": "b973323e0a4211eeaeab38acd540646dcb7aff6b80290a0799cc98102675c628"
   }
  }
 },
 "nbformat": 4,
 "nbformat_minor": 5
}
